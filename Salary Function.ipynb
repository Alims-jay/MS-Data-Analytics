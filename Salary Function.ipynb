{
 "cells": [
  {
   "cell_type": "code",
   "execution_count": 1,
   "id": "125d0d4e-7272-4a41-a14f-bda1bb1dc849",
   "metadata": {},
   "outputs": [],
   "source": [
    "import pandas as pd\n"
   ]
  },
  {
   "cell_type": "code",
   "execution_count": 2,
   "id": "c725ab1b-2524-41c8-8788-bab40b2eb190",
   "metadata": {},
   "outputs": [],
   "source": [
    "df = pd.read_csv(\"Total.csv\", low_memory=False)\n"
   ]
  },
  {
   "cell_type": "code",
   "execution_count": 3,
   "id": "eb0387f3-1db2-4423-9418-171daa6009e8",
   "metadata": {},
   "outputs": [
    {
     "data": {
      "text/html": [
       "<div>\n",
       "<style scoped>\n",
       "    .dataframe tbody tr th:only-of-type {\n",
       "        vertical-align: middle;\n",
       "    }\n",
       "\n",
       "    .dataframe tbody tr th {\n",
       "        vertical-align: top;\n",
       "    }\n",
       "\n",
       "    .dataframe thead th {\n",
       "        text-align: right;\n",
       "    }\n",
       "</style>\n",
       "<table border=\"1\" class=\"dataframe\">\n",
       "  <thead>\n",
       "    <tr style=\"text-align: right;\">\n",
       "      <th></th>\n",
       "      <th>EmployeeName</th>\n",
       "      <th>JobTitle</th>\n",
       "      <th>BasePay</th>\n",
       "      <th>OvertimePay</th>\n",
       "      <th>OtherPay</th>\n",
       "      <th>Benefits</th>\n",
       "      <th>TotalPay</th>\n",
       "      <th>TotalPayBenefits</th>\n",
       "      <th>Year</th>\n",
       "    </tr>\n",
       "  </thead>\n",
       "  <tbody>\n",
       "    <tr>\n",
       "      <th>0</th>\n",
       "      <td>NATHANIEL FORD</td>\n",
       "      <td>GENERAL MANAGER-METROPOLITAN TRANSIT AUTHORITY</td>\n",
       "      <td>167411.18</td>\n",
       "      <td>0.00</td>\n",
       "      <td>400184.25</td>\n",
       "      <td>Not Provided</td>\n",
       "      <td>567595.43</td>\n",
       "      <td>567595.43</td>\n",
       "      <td>2011</td>\n",
       "    </tr>\n",
       "    <tr>\n",
       "      <th>1</th>\n",
       "      <td>GARY JIMENEZ</td>\n",
       "      <td>CAPTAIN III (POLICE DEPARTMENT)</td>\n",
       "      <td>155966.02</td>\n",
       "      <td>245131.88</td>\n",
       "      <td>137811.38</td>\n",
       "      <td>Not Provided</td>\n",
       "      <td>538909.28</td>\n",
       "      <td>538909.28</td>\n",
       "      <td>2011</td>\n",
       "    </tr>\n",
       "    <tr>\n",
       "      <th>2</th>\n",
       "      <td>ALBERT PARDINI</td>\n",
       "      <td>CAPTAIN III (POLICE DEPARTMENT)</td>\n",
       "      <td>212739.13</td>\n",
       "      <td>106088.18</td>\n",
       "      <td>16452.60</td>\n",
       "      <td>Not Provided</td>\n",
       "      <td>335279.91</td>\n",
       "      <td>335279.91</td>\n",
       "      <td>2011</td>\n",
       "    </tr>\n",
       "    <tr>\n",
       "      <th>3</th>\n",
       "      <td>CHRISTOPHER CHONG</td>\n",
       "      <td>WIRE ROPE CABLE MAINTENANCE MECHANIC</td>\n",
       "      <td>77916.00</td>\n",
       "      <td>56120.71</td>\n",
       "      <td>198306.90</td>\n",
       "      <td>Not Provided</td>\n",
       "      <td>332343.61</td>\n",
       "      <td>332343.61</td>\n",
       "      <td>2011</td>\n",
       "    </tr>\n",
       "    <tr>\n",
       "      <th>4</th>\n",
       "      <td>PATRICK GARDNER</td>\n",
       "      <td>DEPUTY CHIEF OF DEPARTMENT,(FIRE DEPARTMENT)</td>\n",
       "      <td>134401.60</td>\n",
       "      <td>9737.00</td>\n",
       "      <td>182234.59</td>\n",
       "      <td>Not Provided</td>\n",
       "      <td>326373.19</td>\n",
       "      <td>326373.19</td>\n",
       "      <td>2011</td>\n",
       "    </tr>\n",
       "  </tbody>\n",
       "</table>\n",
       "</div>"
      ],
      "text/plain": [
       "        EmployeeName                                        JobTitle  \\\n",
       "0     NATHANIEL FORD  GENERAL MANAGER-METROPOLITAN TRANSIT AUTHORITY   \n",
       "1       GARY JIMENEZ                 CAPTAIN III (POLICE DEPARTMENT)   \n",
       "2     ALBERT PARDINI                 CAPTAIN III (POLICE DEPARTMENT)   \n",
       "3  CHRISTOPHER CHONG            WIRE ROPE CABLE MAINTENANCE MECHANIC   \n",
       "4    PATRICK GARDNER    DEPUTY CHIEF OF DEPARTMENT,(FIRE DEPARTMENT)   \n",
       "\n",
       "     BasePay OvertimePay   OtherPay      Benefits   TotalPay  \\\n",
       "0  167411.18        0.00  400184.25  Not Provided  567595.43   \n",
       "1  155966.02   245131.88  137811.38  Not Provided  538909.28   \n",
       "2  212739.13   106088.18   16452.60  Not Provided  335279.91   \n",
       "3   77916.00    56120.71  198306.90  Not Provided  332343.61   \n",
       "4  134401.60     9737.00  182234.59  Not Provided  326373.19   \n",
       "\n",
       "   TotalPayBenefits  Year  \n",
       "0         567595.43  2011  \n",
       "1         538909.28  2011  \n",
       "2         335279.91  2011  \n",
       "3         332343.61  2011  \n",
       "4         326373.19  2011  "
      ]
     },
     "execution_count": 3,
     "metadata": {},
     "output_type": "execute_result"
    }
   ],
   "source": [
    "df.head()\n"
   ]
  },
  {
   "cell_type": "code",
   "execution_count": 4,
   "id": "226c358d-6c45-4907-bb1c-5111aa7bfba7",
   "metadata": {},
   "outputs": [],
   "source": [
    "def get_employee_details(employee_name):\n",
    "    \"\"\"\n",
    "    Fetch employee details based on the provided name.\n",
    "\n",
    "    Parameters:\n",
    "    employee_name (str): The name of the employee to search for.\n",
    "\n",
    "    Returns:\n",
    "    DataFrame or str: The employee's details if found, otherwise a message.\n",
    "    \"\"\"\n",
    "    if 'EmployeeName' not in df.columns:\n",
    "        return \"Error: 'EmployeeName' column not found in dataset.\""
   ]
  },
  {
   "cell_type": "code",
   "execution_count": 5,
   "id": "2bc4f6a6-5e73-4ca2-a138-b15627ede9ce",
   "metadata": {},
   "outputs": [
    {
     "name": "stdout",
     "output_type": "stream",
     "text": [
      "     EmployeeName                                        JobTitle    BasePay  \\\n",
      "0  NATHANIEL FORD  GENERAL MANAGER-METROPOLITAN TRANSIT AUTHORITY  167411.18   \n",
      "\n",
      "  OvertimePay   OtherPay      Benefits   TotalPay  TotalPayBenefits  Year  \n",
      "0        0.00  400184.25  Not Provided  567595.43         567595.43  2011  \n"
     ]
    }
   ],
   "source": [
    "employee_name = \"NATHANIEL FORD\"  \n",
    "employee_data = df[df['EmployeeName'].str.lower() == employee_name.lower()]  \n",
    "print(employee_data)\n"
   ]
  },
  {
   "cell_type": "code",
   "execution_count": 6,
   "id": "d97e8a49-1251-4964-bdb0-e278f1b5c8f2",
   "metadata": {},
   "outputs": [],
   "source": [
    " employee_data = df[df['EmployeeName'].str.lower() == employee_name.lower()]\n"
   ]
  },
  {
   "cell_type": "code",
   "execution_count": 7,
   "id": "2f3cd4c1-179a-45ab-a2bb-f972068262fe",
   "metadata": {},
   "outputs": [],
   "source": [
    "def get_employee_details(employee_name):\n",
    "    employee_data = df[df['EmployeeName'].str.lower() == employee_name.lower()] \n",
    "    \n",
    "    if not employee_data.empty:\n",
    "        return employee_data\n",
    "    else:\n",
    "        return \"Employee not found.\"\n"
   ]
  },
  {
   "cell_type": "code",
   "execution_count": 8,
   "id": "3607265d-79d7-4fda-88d6-b445e2331ee6",
   "metadata": {},
   "outputs": [
    {
     "name": "stdout",
     "output_type": "stream",
     "text": [
      "     EmployeeName                                        JobTitle    BasePay  \\\n",
      "0  NATHANIEL FORD  GENERAL MANAGER-METROPOLITAN TRANSIT AUTHORITY  167411.18   \n",
      "\n",
      "  OvertimePay   OtherPay      Benefits   TotalPay  TotalPayBenefits  Year  \n",
      "0        0.00  400184.25  Not Provided  567595.43         567595.43  2011  \n"
     ]
    }
   ],
   "source": [
    "employee_name = \"NATHANIEL FORD\"\n",
    "print(get_employee_details(employee_name))\n"
   ]
  },
  {
   "cell_type": "code",
   "execution_count": 13,
   "id": "05560903-f6a6-4163-bad4-5f6f46c3fd6d",
   "metadata": {},
   "outputs": [
    {
     "name": "stdout",
     "output_type": "stream",
     "text": [
      "[{'JobTitle': 'GENERAL MANAGER-METROPOLITAN TRANSIT AUTHORITY', 'BasePay': '167411.18', 'OvertimePay': '0.00', 'OtherPay': '400184.25', 'Benefits': 'Not Provided', 'TotalPay': 567595.43, 'TotalPayBenefits': 567595.43, 'Year': 2011}]\n"
     ]
    }
   ],
   "source": [
    "import pandas as pd\n",
    "\n",
    "\n",
    "df = pd.read_csv(\"Total.csv\", low_memory=False)\n",
    "\n",
    "\n",
    "salary_dict = {}\n",
    "\n",
    "\n",
    "for _, row in df.iterrows():\n",
    "    name = row[\"EmployeeName\"].upper()  \n",
    "    details = row.to_dict()  \n",
    "    details.pop(\"EmployeeName\")  \n",
    "\n",
    "    if name in salary_dict:\n",
    "        salary_dict[name].append(details)  \n",
    "    else:\n",
    "        salary_dict[name] = [details]  \n",
    "\n",
    "\n",
    "def get_employee_details_from_dict(employee_name):\n",
    "    employee_name = employee_name.upper()  \n",
    "    return salary_dict.get(employee_name, \"Employee not found.\")\n",
    "\n",
    "\n",
    "employee_name = \"NATHANIEL FORD\"\n",
    "print(get_employee_details_from_dict(employee_name))\n"
   ]
  },
  {
   "cell_type": "code",
   "execution_count": null,
   "id": "813ced8a-1ee2-422a-ba7f-34e862ff4aae",
   "metadata": {},
   "outputs": [],
   "source": [
    "import pandas as pd\n"
   ]
  },
  {
   "cell_type": "code",
   "execution_count": null,
   "id": "9b4418b7-f0c0-41a2-8dd8-7b05cb24f954",
   "metadata": {},
   "outputs": [],
   "source": [
    "def load_data(file_path):\n",
    "    try:\n",
    "        df = pd.read_csv(file_path, low_memory=False)\n",
    "        return df\n",
    "    except FileNotFoundError:\n",
    "        print(f\"Error: The file '{file_path}' was not found.\")\n",
    "    except pd.errors.EmptyDataError:\n",
    "        print(\"Error: The file is empty.\")\n",
    "    except pd.errors.ParserError:\n",
    "        print(\"Error: The file could not be parsed.\")\n",
    "    except Exception as e:\n",
    "        print(f\"An unexpected error occurred: {e}\")\n",
    "    return None"
   ]
  },
  {
   "cell_type": "code",
   "execution_count": null,
   "id": "b39ecf78-60e4-4b8d-932e-43e2140fd014",
   "metadata": {},
   "outputs": [],
   "source": [
    "def process_data_to_dict(df):\n",
    "    if df is None:\n",
    "        print(\"Error: DataFrame is None. Cannot process data.\")\n",
    "        return {}"
   ]
  },
  {
   "cell_type": "code",
   "execution_count": null,
   "id": "90162b3a-fc18-4c8d-9772-664e8011ac17",
   "metadata": {},
   "outputs": [],
   "source": [
    "salary_dict = {}\n",
    "    try:\n",
    "        for _, row in df.iterrows():\n",
    "            name = row[\"EmployeeName\"].upper()  \n",
    "            details = row.to_dict()\n",
    "            details.pop(\"EmployeeName\", None)"
   ]
  },
  {
   "cell_type": "code",
   "execution_count": null,
   "id": "4020ac43-648d-4266-863d-d1933d76b2b7",
   "metadata": {},
   "outputs": [],
   "source": [
    "if name in salary_dict:\n",
    "                salary_dict[name].append(details)  \n",
    "            else:\n",
    "                salary_dict[name] = [details] \n",
    "    except KeyError:\n",
    "        print(\"Error: 'EmployeeName' column is missing from the DataFrame.\")\n",
    "    except Exception as e:\n",
    "        print(f\"An unexpected error occurred while processing data: {e}\")\n",
    "\n",
    "    return salary_dict"
   ]
  },
  {
   "cell_type": "code",
   "execution_count": null,
   "id": "8a95c946-0b27-4834-b9e9-bc13f89250f9",
   "metadata": {},
   "outputs": [],
   "source": [
    "def process_data_to_dict(df):\n",
    "    try:\n",
    "        if 'EmployeeName' not in df.columns:\n",
    "            raise KeyError(\"The DataFrame does not contain an 'EmployeeName' column.\")\n",
    "    \n",
    "        salary_dict = df.set_index('EmployeeName').T.to_dict()\n",
    "        return salary_dict\n",
    "    except KeyError as e:\n",
    "        print(f\"KeyError: {e}\")\n",
    "    except Exception as e:\n",
    "        print(f\"An unexpected error occurred: {e}\")\n",
    "    return None\n"
   ]
  },
  {
   "cell_type": "code",
   "execution_count": 2,
   "id": "87c89836-127e-4f4e-a401-a3ac92303819",
   "metadata": {},
   "outputs": [],
   "source": [
    "import pandas as pd\n",
    "\n",
    "def load_data(file_path):\n",
    "    try:\n",
    "        df = pd.read_csv(file_path, low_memory=False)\n",
    "        return df\n",
    "    except FileNotFoundError:\n",
    "        print(f\"Error: The file '{file_path}' was not found.\")\n",
    "    except pd.errors.EmptyDataError:\n",
    "        print(\"Error: The file is empty.\")\n",
    "    except pd.errors.ParserError:\n",
    "        print(\"Error: The file could not be parsed.\")\n",
    "    except Exception as e:\n",
    "        print(f\"An unexpected error occurred: {e}\")\n",
    "    return None\n"
   ]
  },
  {
   "cell_type": "code",
   "execution_count": 6,
   "id": "6b5b6691-5c61-4610-bab2-e776e777dd02",
   "metadata": {},
   "outputs": [],
   "source": [
    "file_path = \"Total.csv\"\n",
    "df = load_data(file_path)\n",
    "if df is not None:\n",
    "    pass\n",
    "else:\n",
    "    print(\"Data loading failed.\")\n"
   ]
  },
  {
   "cell_type": "code",
   "execution_count": null,
   "id": "c1f95364-c9b1-4066-8d1a-13fb6f4bd105",
   "metadata": {},
   "outputs": [],
   "source": []
  },
  {
   "cell_type": "code",
   "execution_count": 11,
   "id": "1a13cf27-eed7-40b1-809a-7eeb77976e18",
   "metadata": {},
   "outputs": [
    {
     "name": "stdout",
     "output_type": "stream",
     "text": [
      "ZIP file 'Employee_Profile.zip' created successfully.\n"
     ]
    }
   ],
   "source": [
    "import zipfile\n",
    "\n",
    "zip_filename = 'Employee_Profile.zip'\n",
    "csv_filename = 'Total.csv'  \n",
    "\n",
    "with zipfile.ZipFile(zip_filename, 'w', zipfile.ZIP_DEFLATED) as zipf:\n",
    "    zipf.write(csv_filename)\n",
    "\n",
    "print(f\"ZIP file '{zip_filename}' created successfully.\")"
   ]
  },
  {
   "cell_type": "code",
   "execution_count": null,
   "id": "7dcfc0e3-65f2-4e52-b80f-5d67329e981f",
   "metadata": {},
   "outputs": [],
   "source": []
  }
 ],
 "metadata": {
  "kernelspec": {
   "display_name": "Python 3 (ipykernel)",
   "language": "python",
   "name": "python3"
  },
  "language_info": {
   "codemirror_mode": {
    "name": "ipython",
    "version": 3
   },
   "file_extension": ".py",
   "mimetype": "text/x-python",
   "name": "python",
   "nbconvert_exporter": "python",
   "pygments_lexer": "ipython3",
   "version": "3.12.7"
  }
 },
 "nbformat": 4,
 "nbformat_minor": 5
}
